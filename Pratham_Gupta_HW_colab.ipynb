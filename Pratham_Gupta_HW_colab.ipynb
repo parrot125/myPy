{
  "nbformat": 4,
  "nbformat_minor": 0,
  "metadata": {
    "colab": {
      "name": "Pratham Gupta HW colab.ipynb",
      "provenance": [],
      "authorship_tag": "ABX9TyP1UQAkmkmGckQ1FROzdi33",
      "include_colab_link": true
    },
    "kernelspec": {
      "name": "python3",
      "display_name": "Python 3"
    },
    "language_info": {
      "name": "python"
    }
  },
  "cells": [
    {
      "cell_type": "markdown",
      "metadata": {
        "id": "view-in-github",
        "colab_type": "text"
      },
      "source": [
        "<a href=\"https://colab.research.google.com/github/parrot125/myPy/blob/main/Pratham_Gupta_HW_colab.ipynb\" target=\"_parent\"><img src=\"https://colab.research.google.com/assets/colab-badge.svg\" alt=\"Open In Colab\"/></a>"
      ]
    },
    {
      "cell_type": "markdown",
      "metadata": {
        "id": "mbEX5IPCqncU"
      },
      "source": [
        "## 1) Write a program to accepts two integers and print their sum"
      ]
    },
    {
      "cell_type": "code",
      "metadata": {
        "colab": {
          "base_uri": "https://localhost:8080/"
        },
        "id": "vMWwNGyjnnya",
        "outputId": "86ddf727-80e1-4240-fdf8-3b8522698f66"
      },
      "source": [
        "a = int(input(\"Enter the first integer: \"))\n",
        "b = int(input(\"Enter the second integer: \"))\n",
        "print(\"The sum of the given integers is\", a+b)"
      ],
      "execution_count": 2,
      "outputs": [
        {
          "output_type": "stream",
          "text": [
            "Enter the first integer: 25\n",
            "Enter the second integer: -10\n",
            "The sum of the given integers is 15\n"
          ],
          "name": "stdout"
        }
      ]
    },
    {
      "cell_type": "markdown",
      "metadata": {
        "id": "ez2R2AtWrFfS"
      },
      "source": [
        "## 2) Write a program that accepts radius of a circle and prints its area.\n"
      ]
    },
    {
      "cell_type": "code",
      "metadata": {
        "colab": {
          "base_uri": "https://localhost:8080/"
        },
        "id": "si4Bxb5BrgOi",
        "outputId": "5a1e3890-869c-428a-a564-cd04296e5144"
      },
      "source": [
        "r = int(input(\"Enter the radius of the circle: \"))\n",
        "area = 3.14*r*r\n",
        "print(\"The area of the circle is \", area, \"sq. units\")"
      ],
      "execution_count": 1,
      "outputs": [
        {
          "output_type": "stream",
          "text": [
            "Enter the radius of the circle: 7\n",
            "The area of the circle is  153.86 sq. units\n"
          ],
          "name": "stdout"
        }
      ]
    },
    {
      "cell_type": "markdown",
      "metadata": {
        "id": "8cVhXc0RruiS"
      },
      "source": [
        "##3) Write a program that accepts base and height and calculate the area of triangle."
      ]
    },
    {
      "cell_type": "code",
      "metadata": {
        "colab": {
          "base_uri": "https://localhost:8080/"
        },
        "id": "ZutkeHhjsL-j",
        "outputId": "b7d8ae37-03d5-466c-ef23-81e370e063af"
      },
      "source": [
        "b = int(input(\"Enter the Base of the triangle: \"))\n",
        "h = int(input(\"Enter the Height of the triangle: \"))\n",
        "area = 0.5*b*h\n",
        "print(\"The area of the triangle is \", area, \"sq. units\")"
      ],
      "execution_count": 2,
      "outputs": [
        {
          "output_type": "stream",
          "text": [
            "Enter the Base of the triangle: 3\n",
            "Enter the Height of the triangle: 4\n",
            "The area of the triangle is  6.0 sq. units\n"
          ],
          "name": "stdout"
        }
      ]
    },
    {
      "cell_type": "markdown",
      "metadata": {
        "id": "dWywx18QsWsV"
      },
      "source": [
        "##4) Write a program that inputs a student’s marks in three subjects (out of 100) and prints the percentage marks."
      ]
    },
    {
      "cell_type": "code",
      "metadata": {
        "colab": {
          "base_uri": "https://localhost:8080/"
        },
        "id": "AI2Uafh7siTZ",
        "outputId": "07031a5d-8f65-495f-e241-1192f626d85d"
      },
      "source": [
        "a = float(input(\"Marks in first subject (out of 100): \"))\n",
        "b = float(input(\"Marks in second subject (out of 100): \"))\n",
        "c = float(input(\"Marks in third subject (out of 100): \"))\n",
        "\n",
        "prcnt = ((a+b+c)/300)*100\n",
        "print(\"The percentage marks of the student is\", prcnt, \"percent\")"
      ],
      "execution_count": 3,
      "outputs": [
        {
          "output_type": "stream",
          "text": [
            "Marks in first subject (out of 100): 90\n",
            "Marks in second subject (out of 100): 85\n",
            "Marks in third subject (out of 100): 80\n",
            "The percentage marks of the student is 85.0 percent\n"
          ],
          "name": "stdout"
        }
      ]
    },
    {
      "cell_type": "markdown",
      "metadata": {
        "id": "yIE0Sc_Ps9Sx"
      },
      "source": [
        "##5) Write a program to compute area of square and triangle.\n"
      ]
    },
    {
      "cell_type": "code",
      "metadata": {
        "colab": {
          "base_uri": "https://localhost:8080/"
        },
        "id": "4TxnKRJSuO3H",
        "outputId": "b9211fa4-8eb8-4f0f-ed0d-de580c0daa37"
      },
      "source": [
        "loop = 0\n",
        "while loop == 0:\n",
        "    shape = str(input(\"Enter 't' for triangle and 's' for square: \"))\n",
        "    if shape == \"t\":\n",
        "        print(\"triangle\")\n",
        "        print(\"You have selected triangle.\")\n",
        "        b = int(input(\"Enter the Base of the triangle: \"))\n",
        "        h = int(input(\"Enter the Height of the triangle: \"))\n",
        "        area = 0.5*b*h\n",
        "        print(\"The area of the triangle is \", area, \"sq units\")\n",
        "        loop = 1 #Exiting the program if one command is completed. Change the value to 0 for it to loop.\n",
        "    elif shape == \"s\":\n",
        "        print(\"You have selected square\")\n",
        "        side = int(input(\"Side of square: \"))\n",
        "        print(\"The area of the square is\", side**2, \"sq units\")\n",
        "        loop = 1 #Exiting the program if one command is completed. Change the value to 0 for it to loop.\n",
        "    else:\n",
        "        print(\"Invalid input please try again (s/t)\")\n",
        "        pass"
      ],
      "execution_count": 7,
      "outputs": [
        {
          "output_type": "stream",
          "text": [
            "Enter 't' for triangle and 's' for square: triangle\n",
            "Invalid input please try again (s/t)\n",
            "Enter 't' for triangle and 's' for square: t\n",
            "triangle\n",
            "You have selected triangle.\n",
            "Enter the Base of the triangle: 5\n",
            "Enter the Height of the triangle: 4\n",
            "The area of the triangle is  10.0 sq units\n"
          ],
          "name": "stdout"
        }
      ]
    },
    {
      "cell_type": "code",
      "metadata": {
        "colab": {
          "base_uri": "https://localhost:8080/"
        },
        "id": "KebbR92EuHyt",
        "outputId": "776d0b9a-7adf-4812-ee58-959f3fbec251"
      },
      "source": [
        "loop = 0\n",
        "while loop == 0:\n",
        "    shape = str(input(\"Enter 't' for triangle and 's' for square: \"))\n",
        "    if shape == \"t\":\n",
        "        print(\"triangle\")\n",
        "        print(\"You have selected triangle.\")\n",
        "        b = int(input(\"Enter the Base of the triangle: \"))\n",
        "        h = int(input(\"Enter the Height of the triangle: \"))\n",
        "        area = 0.5*b*h\n",
        "        print(\"The area of the triangle is \", area, \"sq units\")\n",
        "        loop = 1 #Exiting the program if one command is completed. Change the value to 0 for it to loop.\n",
        "    elif shape == \"s\":\n",
        "        print(\"You have selected square\")\n",
        "        side = int(input(\"Side of square: \"))\n",
        "        print(\"The area of the square is\", side**2, \"sq units\")\n",
        "        loop = 1 #Exiting the program if one command is completed. Change the value to 0 for it to loop.\n",
        "    else:\n",
        "        print(\"Invalid input please try again (s/t)\")\n",
        "        pass"
      ],
      "execution_count": 6,
      "outputs": [
        {
          "output_type": "stream",
          "text": [
            "Enter 't' for triangle and 's' for square: s\n",
            "You have selected square\n",
            "Side of square: 5\n",
            "The area of the square is 25 sq units\n"
          ],
          "name": "stdout"
        }
      ]
    }
  ]
}